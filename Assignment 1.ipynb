{
 "cells": [
  {
   "cell_type": "markdown",
   "id": "8994893a-a9dd-4c59-8111-7a234d52afc7",
   "metadata": {
    "tags": []
   },
   "source": [
    "## 1st Assignment"
   ]
  },
  {
   "cell_type": "markdown",
   "id": "1ef5c94e-ac68-46a5-8c52-9348d75ff18d",
   "metadata": {},
   "source": [
    "``` \n",
    "1. Python program to print a multiplication table of a given number\n",
    "\n",
    "2. Python program to check if the given string is a palindrome.\n",
    "\n",
    "3. Python program to display all numbers within a range except the prime numbers using functions.\n",
    "\n",
    "4. Python program to get the Fibonacci series between 0 to 50.\n",
    "\n",
    "5. Python program to find the factorial of a given number using functions. \n",
    "```"
   ]
  },
  {
   "cell_type": "markdown",
   "id": "6649a091-d580-45ba-8e11-8852eb3ef44f",
   "metadata": {},
   "source": [
    "---"
   ]
  },
  {
   "cell_type": "markdown",
   "id": "cc439a73-03fa-40f3-adec-153f0ec4c5ec",
   "metadata": {},
   "source": [
    "**1. Python program to print a multiplication table of a given number.**"
   ]
  },
  {
   "cell_type": "code",
   "execution_count": 1,
   "id": "796fe03b-e6f5-459c-980c-7272a2af3a4c",
   "metadata": {},
   "outputs": [
    {
     "name": "stdin",
     "output_type": "stream",
     "text": [
      "Enter a number:  9\n"
     ]
    },
    {
     "name": "stdout",
     "output_type": "stream",
     "text": [
      "9 x 1 = 9\n",
      "9 x 2 = 18\n",
      "9 x 3 = 27\n",
      "9 x 4 = 36\n",
      "9 x 5 = 45\n",
      "9 x 6 = 54\n",
      "9 x 7 = 63\n",
      "9 x 8 = 72\n",
      "9 x 9 = 81\n",
      "9 x 10 = 90\n"
     ]
    }
   ],
   "source": [
    "def multiplication_table(num):\n",
    "    for i in range(1, 11):\n",
    "        print(f\"{num} x {i} = {num * i}\")\n",
    "\n",
    "num = int(input(\"Enter a number: \"))\n",
    "multiplication_table(num)"
   ]
  },
  {
   "cell_type": "markdown",
   "id": "dee8339d-3b98-45c3-976f-8c747a2f792e",
   "metadata": {},
   "source": [
    "---"
   ]
  },
  {
   "cell_type": "markdown",
   "id": "5df14af1-7340-420e-92f2-d743e022469a",
   "metadata": {},
   "source": [
    "**2. Python program to check if the given string is a palindrome.**"
   ]
  },
  {
   "cell_type": "code",
   "execution_count": 2,
   "id": "c8c003c0-215c-428d-a8c1-d27285300b92",
   "metadata": {},
   "outputs": [
    {
     "name": "stdin",
     "output_type": "stream",
     "text": [
      "Enter a string:  NOON\n"
     ]
    },
    {
     "name": "stdout",
     "output_type": "stream",
     "text": [
      "The string is a palindrome.\n"
     ]
    }
   ],
   "source": [
    "def is_palindrome(s):\n",
    "    return s == s[::-1]\n",
    "\n",
    "string = input(\"Enter a string: \")\n",
    "if is_palindrome(string):\n",
    "    print(\"The string is a palindrome.\")\n",
    "else:\n",
    "    print(\"The string is not a palindrome.\")\n"
   ]
  },
  {
   "cell_type": "markdown",
   "id": "3cd3a1db-86e7-4a92-826c-6efaea613baf",
   "metadata": {},
   "source": [
    "---"
   ]
  },
  {
   "cell_type": "markdown",
   "id": "894464cd-a44b-4ecc-9cdd-b7519ec10fa7",
   "metadata": {},
   "source": [
    "**3. Python program to display all numbers within a range except the prime numbers using functions.**"
   ]
  },
  {
   "cell_type": "code",
   "execution_count": 3,
   "id": "cf865ead-45fa-4500-abd5-722a4bc2219f",
   "metadata": {},
   "outputs": [
    {
     "name": "stdin",
     "output_type": "stream",
     "text": [
      "Enter the start of the range:  1\n",
      "Enter the end of the range:  100\n"
     ]
    },
    {
     "name": "stdout",
     "output_type": "stream",
     "text": [
      "Non-prime numbers within the range: 1 4 6 8 9 10 12 14 15 16 18 20 21 22 24 25 26 27 28 30 32 33 34 35 36 38 39 40 42 44 45 46 48 49 50 51 52 54 55 56 57 58 60 62 63 64 65 66 68 69 70 72 74 75 76 77 78 80 81 82 84 85 86 87 88 90 91 92 93 94 95 96 98 99 100 "
     ]
    }
   ],
   "source": [
    "def is_prime(num):\n",
    "    if num <= 1:\n",
    "        return False\n",
    "    for i in range(2, int(num**0.5) + 1):\n",
    "        if num % i == 0:\n",
    "            return False\n",
    "    return True\n",
    "\n",
    "def display_non_primes(start, end):\n",
    "    for num in range(start, end+1):\n",
    "        if not is_prime(num):\n",
    "            print(num, end=\" \")\n",
    "\n",
    "start = int(input(\"Enter the start of the range: \"))\n",
    "end = int(input(\"Enter the end of the range: \"))\n",
    "print(\"Non-prime numbers within the range:\", end=\" \")\n",
    "display_non_primes(start, end)"
   ]
  },
  {
   "cell_type": "markdown",
   "id": "a02c1ee8-d0cf-48bd-a8d6-c42fd04e9a6c",
   "metadata": {},
   "source": [
    "---"
   ]
  },
  {
   "cell_type": "markdown",
   "id": "e94fc746-e209-49c6-a30c-83d4d65b9714",
   "metadata": {},
   "source": [
    "**4. Python program to get the Fibonacci series between 0 to 50.**"
   ]
  },
  {
   "cell_type": "code",
   "execution_count": 4,
   "id": "be3e62b8-af00-4a7f-8ba1-ee3afe3760af",
   "metadata": {},
   "outputs": [
    {
     "name": "stdout",
     "output_type": "stream",
     "text": [
      "Fibonacci series between 0 to 50: [0, 1, 1, 2, 3, 5, 8, 13, 21, 34]\n"
     ]
    }
   ],
   "source": [
    "def fibonacci_series(n):\n",
    "    fib_series = [0, 1]\n",
    "    while fib_series[-1] + fib_series[-2] <= n:\n",
    "        fib_series.append(fib_series[-1] + fib_series[-2])\n",
    "    return fib_series\n",
    "\n",
    "print(\"Fibonacci series between 0 to 50:\", fibonacci_series(50))"
   ]
  },
  {
   "cell_type": "markdown",
   "id": "c257f963-d105-46fa-bd65-91486173a5da",
   "metadata": {},
   "source": [
    "---"
   ]
  },
  {
   "cell_type": "markdown",
   "id": "7cae3fd7-cad8-49dc-8194-3a7632f6b69d",
   "metadata": {},
   "source": [
    "**5. Python program to find the factorial of a given number using functions.**"
   ]
  },
  {
   "cell_type": "code",
   "execution_count": 5,
   "id": "6dcce24f-73b0-45dd-8bff-4b96b9124b9b",
   "metadata": {},
   "outputs": [
    {
     "name": "stdin",
     "output_type": "stream",
     "text": [
      "Enter a number:  5\n"
     ]
    },
    {
     "name": "stdout",
     "output_type": "stream",
     "text": [
      "Factorial of 5 is 120\n"
     ]
    }
   ],
   "source": [
    "def factorial(n):\n",
    "    if n == 0:\n",
    "        return 1\n",
    "    else:\n",
    "        return n * factorial(n - 1)\n",
    "\n",
    "num = int(input(\"Enter a number: \"))\n",
    "print(\"Factorial of\", num, \"is\", factorial(num))"
   ]
  },
  {
   "cell_type": "markdown",
   "id": "f19ea356-ee2a-4978-b7b9-e65d143c37f0",
   "metadata": {},
   "source": [
    "---"
   ]
  }
 ],
 "metadata": {
  "kernelspec": {
   "display_name": "Python 3 (ipykernel)",
   "language": "python",
   "name": "python3"
  },
  "language_info": {
   "codemirror_mode": {
    "name": "ipython",
    "version": 3
   },
   "file_extension": ".py",
   "mimetype": "text/x-python",
   "name": "python",
   "nbconvert_exporter": "python",
   "pygments_lexer": "ipython3",
   "version": "3.10.8"
  }
 },
 "nbformat": 4,
 "nbformat_minor": 5
}
