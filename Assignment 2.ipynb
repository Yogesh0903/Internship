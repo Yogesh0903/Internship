{
 "cells": [
  {
   "cell_type": "markdown",
   "id": "8994893a-a9dd-4c59-8111-7a234d52afc7",
   "metadata": {
    "tags": []
   },
   "source": [
    "## 2nd Assignment"
   ]
  },
  {
   "cell_type": "markdown",
   "id": "1ef5c94e-ac68-46a5-8c52-9348d75ff18d",
   "metadata": {},
   "source": [
    "``` \n",
    "6. Print only vowels of a string using a for loop.\n",
    "\n",
    "7. Print numbers divisible by 3 or 5 from 1 to 20 using a for loop.\n",
    "\n",
    "8. Write a program to display the product of digits of a given number.\n",
    "\n",
    "9. Python program to swap two elements in a list.\n",
    "\n",
    "10. Write a program to print \"yes\" if the sum of odd numbers is greater than sum of even numbers in a list or else no. \n",
    "```"
   ]
  },
  {
   "cell_type": "markdown",
   "id": "6649a091-d580-45ba-8e11-8852eb3ef44f",
   "metadata": {},
   "source": [
    "---"
   ]
  },
  {
   "cell_type": "markdown",
   "id": "cc439a73-03fa-40f3-adec-153f0ec4c5ec",
   "metadata": {},
   "source": [
    "**6. Print only vowels of a string using a for loop.**"
   ]
  },
  {
   "cell_type": "code",
   "execution_count": 1,
   "id": "796fe03b-e6f5-459c-980c-7272a2af3a4c",
   "metadata": {},
   "outputs": [
    {
     "name": "stdin",
     "output_type": "stream",
     "text": [
      "Enter a string:  Hello\n"
     ]
    },
    {
     "name": "stdout",
     "output_type": "stream",
     "text": [
      "Vowels in the string: e o "
     ]
    }
   ],
   "source": [
    "def print_vowels(s):\n",
    "    vowels = \"aeiouAEIOU\"\n",
    "    for char in s:\n",
    "        if char in vowels:\n",
    "            print(char, end=\" \")\n",
    "\n",
    "string = input(\"Enter a string: \")\n",
    "print(\"Vowels in the string:\", end=\" \")\n",
    "print_vowels(string)"
   ]
  },
  {
   "cell_type": "markdown",
   "id": "dee8339d-3b98-45c3-976f-8c747a2f792e",
   "metadata": {},
   "source": [
    "---"
   ]
  },
  {
   "cell_type": "markdown",
   "id": "5df14af1-7340-420e-92f2-d743e022469a",
   "metadata": {},
   "source": [
    "**7. Print numbers divisible by 3 or 5 from 1 to 20 using a for loop.**"
   ]
  },
  {
   "cell_type": "code",
   "execution_count": 2,
   "id": "c8c003c0-215c-428d-a8c1-d27285300b92",
   "metadata": {},
   "outputs": [
    {
     "name": "stdout",
     "output_type": "stream",
     "text": [
      "Numbers divisible by 3 or 5 from 1 to 20:\n",
      "3 5 6 9 10 12 15 18 20 "
     ]
    }
   ],
   "source": [
    "print(\"Numbers divisible by 3 or 5 from 1 to 20:\")\n",
    "for num in range(1, 21):\n",
    "    if num % 3 == 0 or num % 5 == 0:\n",
    "        print(num, end=\" \")"
   ]
  },
  {
   "cell_type": "markdown",
   "id": "3cd3a1db-86e7-4a92-826c-6efaea613baf",
   "metadata": {},
   "source": [
    "---"
   ]
  },
  {
   "cell_type": "markdown",
   "id": "894464cd-a44b-4ecc-9cdd-b7519ec10fa7",
   "metadata": {},
   "source": [
    "**8. Write a program to display the product of digits of a given number.**"
   ]
  },
  {
   "cell_type": "code",
   "execution_count": 3,
   "id": "cf865ead-45fa-4500-abd5-722a4bc2219f",
   "metadata": {},
   "outputs": [
    {
     "name": "stdin",
     "output_type": "stream",
     "text": [
      "Enter a number:  555\n"
     ]
    },
    {
     "name": "stdout",
     "output_type": "stream",
     "text": [
      "Product of digits: 125\n"
     ]
    }
   ],
   "source": [
    "def product_of_digits(num):\n",
    "    product = 1\n",
    "    for digit in str(num):\n",
    "        product *= int(digit)\n",
    "    return product\n",
    "\n",
    "number = int(input(\"Enter a number: \"))\n",
    "print(\"Product of digits:\", product_of_digits(number))"
   ]
  },
  {
   "cell_type": "markdown",
   "id": "a02c1ee8-d0cf-48bd-a8d6-c42fd04e9a6c",
   "metadata": {},
   "source": [
    "---"
   ]
  },
  {
   "cell_type": "markdown",
   "id": "e94fc746-e209-49c6-a30c-83d4d65b9714",
   "metadata": {},
   "source": [
    "**9. Python program to swap two elements in a list.**"
   ]
  },
  {
   "cell_type": "code",
   "execution_count": 4,
   "id": "be3e62b8-af00-4a7f-8ba1-ee3afe3760af",
   "metadata": {},
   "outputs": [
    {
     "name": "stdout",
     "output_type": "stream",
     "text": [
      "Original list: [1, 2, 3, 4, 5]\n"
     ]
    },
    {
     "name": "stdin",
     "output_type": "stream",
     "text": [
      "Enter index of first element to swap:  2\n",
      "Enter index of second element to swap:  3\n"
     ]
    },
    {
     "name": "stdout",
     "output_type": "stream",
     "text": [
      "List after swapping elements: [1, 2, 4, 3, 5]\n"
     ]
    }
   ],
   "source": [
    "def swap_elements(lst, index1, index2):\n",
    "    lst[index1], lst[index2] = lst[index2], lst[index1]\n",
    "\n",
    "my_list = [1, 2, 3, 4, 5]\n",
    "print(\"Original list:\", my_list)\n",
    "index1 = int(input(\"Enter index of first element to swap: \"))\n",
    "index2 = int(input(\"Enter index of second element to swap: \"))\n",
    "swap_elements(my_list, index1, index2)\n",
    "print(\"List after swapping elements:\", my_list)"
   ]
  },
  {
   "cell_type": "markdown",
   "id": "c257f963-d105-46fa-bd65-91486173a5da",
   "metadata": {},
   "source": [
    "---"
   ]
  },
  {
   "cell_type": "markdown",
   "id": "7cae3fd7-cad8-49dc-8194-3a7632f6b69d",
   "metadata": {},
   "source": [
    "**10. Write a program to print \"yes\" if the sum of odd numbers is greater than sum of even numbers in a list or else no.**"
   ]
  },
  {
   "cell_type": "code",
   "execution_count": 5,
   "id": "6dcce24f-73b0-45dd-8bff-4b96b9124b9b",
   "metadata": {},
   "outputs": [
    {
     "name": "stdout",
     "output_type": "stream",
     "text": [
      "Sum of odd numbers is greater than sum of even numbers? no\n"
     ]
    }
   ],
   "source": [
    "def check_odd_even_sum(lst):\n",
    "    sum_odd = sum([num for num in lst if num % 2 != 0])\n",
    "    sum_even = sum([num for num in lst if num % 2 == 0])\n",
    "    if sum_odd > sum_even:\n",
    "        return \"yes\"\n",
    "    else:\n",
    "        return \"no\"\n",
    "\n",
    "my_list = [1, 2, 3, 4, 5, 6, 7, 8, 9, 10]\n",
    "print(\"Sum of odd numbers is greater than sum of even numbers?\" , check_odd_even_sum(my_list))"
   ]
  },
  {
   "cell_type": "markdown",
   "id": "f19ea356-ee2a-4978-b7b9-e65d143c37f0",
   "metadata": {},
   "source": [
    "---"
   ]
  }
 ],
 "metadata": {
  "kernelspec": {
   "display_name": "Python 3 (ipykernel)",
   "language": "python",
   "name": "python3"
  },
  "language_info": {
   "codemirror_mode": {
    "name": "ipython",
    "version": 3
   },
   "file_extension": ".py",
   "mimetype": "text/x-python",
   "name": "python",
   "nbconvert_exporter": "python",
   "pygments_lexer": "ipython3",
   "version": "3.10.8"
  }
 },
 "nbformat": 4,
 "nbformat_minor": 5
}
